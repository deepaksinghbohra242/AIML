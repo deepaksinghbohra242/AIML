{
 "cells": [
  {
   "cell_type": "code",
   "execution_count": 2,
   "id": "1d9576aa",
   "metadata": {},
   "outputs": [
    {
     "data": {
      "text/html": [
       "<h1 style=\"color:blue\"> hello world</h1>"
      ],
      "text/plain": [
       "<IPython.core.display.HTML object>"
      ]
     },
     "execution_count": 2,
     "metadata": {},
     "output_type": "execute_result"
    }
   ],
   "source": [
    "from IPython.core.display import HTML\n",
    "HTML('<h1 style=\"color:blue\"> hello world</h1>')"
   ]
  },
  {
   "cell_type": "markdown",
   "id": "858b37ba",
   "metadata": {},
   "source": [
    "HTML('\n",
    "      For this project we will be exploring publicly available data from\n",
    "      LendingClub.com. Lending Club connects people who need money (borrowers)\n",
    "      with people who have money (investors). Hopefully, as an investor you\n",
    "      would want to invest in people who showed a profile of having a high\n",
    "      probability of paying you back. We will try to create a model that will\n",
    "      help predict this. Lending club had a very interesting year in 2016, so\n",
    "      let's check out some of their data and keep the context in mind. This data\n",
    "      is from before they even went public. We will use lending data from\n",
    "      2007-2010 and be trying to classify and predict whether or not the\n",
    "      borrower paid back their loan in full. You can download the data from here\n",
    "      or just use the csv already provided. It's recommended you use the csv\n",
    "      provided as it has been cleaned of NA values.\n",
    "      Here are what the columns represent:\n",
    "    <ul>\n",
    "      <li>\n",
    "        credit.policy: 1 if the customer meets the credit underwriting criteria\n",
    "        of LendingClub.com, and 0 otherwise.\n",
    "      </li>\n",
    "      <li>\n",
    "        purpose: The purpose of the loan (takes values \"credit_card\",\n",
    "        \"debt_consolidation\", \"educational\", \"major_purchase\", \"small_business\",\n",
    "        and \"all_other\").\n",
    "      </li>\n",
    "      <li>\n",
    "        int.rate: The interest rate of the loan, as a proportion (a rate of 11%\n",
    "        would be stored as 0.11). Borrowers judged by LendingClub.com to be more\n",
    "        risky are assigned higher interest rates.\n",
    "      </li>\n",
    "      <li>\n",
    "        installment: The monthly installments owed by the borrower if the loan\n",
    "        is funded.\n",
    "      </li>\n",
    "      <li>\n",
    "        log.annual.inc: The natural log of the self-reported annual income of\n",
    "        the borrower.\n",
    "      </li>\n",
    "      <li>\n",
    "        dti: The debt-to-income ratio of the borrower (amount of debt divided by\n",
    "        annual income).\n",
    "      </li>\n",
    "      <li>fico: The FICO credit score of the borrower.</li>\n",
    "      <li>\n",
    "        days.with.cr.line: The number of days the borrower has had a credit\n",
    "        line.\n",
    "      </li>\n",
    "      <li>\n",
    "        revol.bal: The borrower's revolving balance (amount unpaid at the end of\n",
    "        the credit card billing cycle).\n",
    "      </li>\n",
    "      <li>\n",
    "        revol.util: The borrower's revolving line utilization rate (the amount\n",
    "        of the credit line used relative to total credit available).\n",
    "      </li>\n",
    "      <li>\n",
    "        inq.last.6mths: The borrower's number of inquiries by creditors in the\n",
    "        last 6 months.\n",
    "      </li>\n",
    "      <li>\n",
    "        delinq.2yrs: The number of times the borrower had been 30+ days past due\n",
    "        on a payment in the past 2 years.\n",
    "      </li>\n",
    "      <li>\n",
    "        pub.rec: The borrower's number of derogatory public records (bankruptcy\n",
    "        filings, tax liens, or judgments).\n",
    "      </li>\n",
    "    </ul>')"
   ]
  },
  {
   "cell_type": "markdown",
   "id": "ad6efcd1",
   "metadata": {},
   "source": [
    "For this project we will be exploring publicly available data from LendingClub.com. Lending Club connects people who need money (borrowers) with people who have money (investors). Hopefully, as an investor you would want to invest in people who showed a profile of having a high probability of paying you back. We will try to create a model that will help predict this.\n",
    "\n",
    "Lending club had a very interesting year in 2016, so let's check out some of their data and keep the context in mind. This data is from before they even went public.\n",
    "\n",
    "We will use lending data from 2007-2010 and be trying to classify and predict whether or not the borrower paid back their loan in full. You can download the data from here or just use the csv already provided. It's recommended you use the csv provided as it has been cleaned of NA values.\n",
    "\n",
    "Here are what the columns represent:\n",
    "\n",
    "credit.policy: 1 if the customer meets the credit underwriting criteria of LendingClub.com, and 0 otherwise.\n",
    "purpose: The purpose of the loan (takes values \"credit_card\", \"debt_consolidation\", \"educational\", \"major_purchase\", \"small_business\", and \"all_other\").\n",
    "int.rate: The interest rate of the loan, as a proportion (a rate of 11% would be stored as 0.11). Borrowers judged by LendingClub.com to be more risky are assigned higher interest rates.\n",
    "installment: The monthly installments owed by the borrower if the loan is funded.\n",
    "log.annual.inc: The natural log of the self-reported annual income of the borrower.\n",
    "dti: The debt-to-income ratio of the borrower (amount of debt divided by annual income).\n",
    "fico: The FICO credit score of the borrower.\n",
    "days.with.cr.line: The number of days the borrower has had a credit line.\n",
    "revol.bal: The borrower's revolving balance (amount unpaid at the end of the credit card billing cycle).\n",
    "revol.util: The borrower's revolving line utilization rate (the amount of the credit line used relative to total credit available).\n",
    "inq.last.6mths: The borrower's number of inquiries by creditors in the last 6 months.\n",
    "delinq.2yrs: The number of times the borrower had been 30+ days past due on a payment in the past 2 years.\n",
    "pub.rec: The borrower's number of derogatory public records (bankruptcy filings, tax liens, or judgments)."
   ]
  },
  {
   "cell_type": "code",
   "execution_count": null,
   "id": "46f37b4b",
   "metadata": {},
   "outputs": [],
   "source": []
  }
 ],
 "metadata": {
  "kernelspec": {
   "display_name": "Python 3 (ipykernel)",
   "language": "python",
   "name": "python3"
  },
  "language_info": {
   "codemirror_mode": {
    "name": "ipython",
    "version": 3
   },
   "file_extension": ".py",
   "mimetype": "text/x-python",
   "name": "python",
   "nbconvert_exporter": "python",
   "pygments_lexer": "ipython3",
   "version": "3.9.7"
  }
 },
 "nbformat": 4,
 "nbformat_minor": 5
}
