{
 "cells": [
  {
   "cell_type": "code",
   "execution_count": 15,
   "id": "68b48dac",
   "metadata": {},
   "outputs": [
    {
     "name": "stdout",
     "output_type": "stream",
     "text": [
      "     area     price\n",
      "0  2600.0  550000.0\n",
      "1  3000.0  565000.0\n",
      "2  3200.0       NaN\n",
      "3     NaN  680000.0\n",
      "4  4000.0  725000.0\n",
      "0    2600.0\n",
      "1    3000.0\n",
      "2    3200.0\n",
      "3    4000.0\n",
      "4    4000.0\n",
      "Name: area, dtype: float64\n"
     ]
    }
   ],
   "source": [
    "# import pandas as pd\n",
    "# df = pd.read_csv(\"./CSV/HousePrice.csv\",)\n",
    "# print(df)\n",
    "# df.isnull()\n",
    "# df.info()\n",
    "# df.isnull().sum()\n",
    "# df1 = df.dropn()\n",
    "# area_var = df['area']\n",
    "# df2 = area_var.fillna(method='ffill')\n",
    "# df2 = area_var.fillna(method='bfill')\n",
    "# print(df2)"
   ]
  },
  {
   "cell_type": "code",
   "execution_count": 17,
   "id": "a4c77563",
   "metadata": {},
   "outputs": [
    {
     "data": {
      "text/html": [
       "<div>\n",
       "<style scoped>\n",
       "    .dataframe tbody tr th:only-of-type {\n",
       "        vertical-align: middle;\n",
       "    }\n",
       "\n",
       "    .dataframe tbody tr th {\n",
       "        vertical-align: top;\n",
       "    }\n",
       "\n",
       "    .dataframe thead th {\n",
       "        text-align: right;\n",
       "    }\n",
       "</style>\n",
       "<table border=\"1\" class=\"dataframe\">\n",
       "  <thead>\n",
       "    <tr style=\"text-align: right;\">\n",
       "      <th></th>\n",
       "      <th>apple</th>\n",
       "      <th>mango</th>\n",
       "      <th>orange</th>\n",
       "    </tr>\n",
       "  </thead>\n",
       "  <tbody>\n",
       "    <tr>\n",
       "      <th>0</th>\n",
       "      <td>1</td>\n",
       "      <td>0</td>\n",
       "      <td>0</td>\n",
       "    </tr>\n",
       "    <tr>\n",
       "      <th>1</th>\n",
       "      <td>1</td>\n",
       "      <td>0</td>\n",
       "      <td>0</td>\n",
       "    </tr>\n",
       "    <tr>\n",
       "      <th>2</th>\n",
       "      <td>0</td>\n",
       "      <td>1</td>\n",
       "      <td>0</td>\n",
       "    </tr>\n",
       "    <tr>\n",
       "      <th>3</th>\n",
       "      <td>0</td>\n",
       "      <td>0</td>\n",
       "      <td>1</td>\n",
       "    </tr>\n",
       "    <tr>\n",
       "      <th>4</th>\n",
       "      <td>0</td>\n",
       "      <td>0</td>\n",
       "      <td>1</td>\n",
       "    </tr>\n",
       "    <tr>\n",
       "      <th>5</th>\n",
       "      <td>0</td>\n",
       "      <td>1</td>\n",
       "      <td>0</td>\n",
       "    </tr>\n",
       "  </tbody>\n",
       "</table>\n",
       "</div>"
      ],
      "text/plain": [
       "   apple  mango  orange\n",
       "0      1      0       0\n",
       "1      1      0       0\n",
       "2      0      1       0\n",
       "3      0      0       1\n",
       "4      0      0       1\n",
       "5      0      1       0"
      ]
     },
     "execution_count": 17,
     "metadata": {},
     "output_type": "execute_result"
    }
   ],
   "source": [
    "# import pandas as pd\n",
    "# df = pd.DataFrame(['apple','apple','mango','orange','orange','mango'],columns=['fruits'])\n",
    "# df2 = pd.get_dummies(df.fruits)\n",
    "# df2"
   ]
  },
  {
   "cell_type": "code",
   "execution_count": null,
   "id": "b0d1a7c6",
   "metadata": {},
   "outputs": [],
   "source": [
    "# df3=pd.concat([df,df2],axis=1)\n",
    "# df3"
   ]
  },
  {
   "cell_type": "markdown",
   "id": "75e7dfe4",
   "metadata": {},
   "source": [
    "df3=pd.concate([df,df2],axis=1)\n",
    "df3"
   ]
  },
  {
   "cell_type": "code",
   "execution_count": 30,
   "id": "18c07729",
   "metadata": {},
   "outputs": [
    {
     "data": {
      "text/plain": [
       "<pandas.core.groupby.generic.DataFrameGroupBy object at 0x000001E6B9383310>"
      ]
     },
     "execution_count": 30,
     "metadata": {},
     "output_type": "execute_result"
    }
   ],
   "source": [
    "import pandas as pd\n",
    "df = pd.read_csv(\"./CSV/HousePrice.csv\",)\n",
    "# print(df)\n",
    "# df2 = df.drop_duplicates()\n",
    "# df2\n",
    "\n",
    "# df1 = df.area.unique()\n",
    "# df1\n",
    "\n"
   ]
  }
 ],
 "metadata": {
  "kernelspec": {
   "display_name": "Python 3 (ipykernel)",
   "language": "python",
   "name": "python3"
  },
  "language_info": {
   "codemirror_mode": {
    "name": "ipython",
    "version": 3
   },
   "file_extension": ".py",
   "mimetype": "text/x-python",
   "name": "python",
   "nbconvert_exporter": "python",
   "pygments_lexer": "ipython3",
   "version": "3.9.7"
  }
 },
 "nbformat": 4,
 "nbformat_minor": 5
}
